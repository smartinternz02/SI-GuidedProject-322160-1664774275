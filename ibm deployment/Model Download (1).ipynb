{
 "cells": [
  {
   "cell_type": "code",
   "execution_count": 1,
   "id": "8deeddb6",
   "metadata": {},
   "outputs": [
    {
     "name": "stdout",
     "output_type": "stream",
     "text": [
      "Requirement already satisfied: ibm_watson_machine_learning in c:\\users\\mahes\\anaconda3\\lib\\site-packages (1.0.253)Note: you may need to restart the kernel to use updated packages.\n",
      "\n",
      "Requirement already satisfied: ibm-cos-sdk==2.11.* in c:\\users\\mahes\\anaconda3\\lib\\site-packages (from ibm_watson_machine_learning) (2.11.0)\n",
      "Requirement already satisfied: certifi in c:\\users\\mahes\\anaconda3\\lib\\site-packages (from ibm_watson_machine_learning) (2021.10.8)\n",
      "Requirement already satisfied: tabulate in c:\\users\\mahes\\anaconda3\\lib\\site-packages (from ibm_watson_machine_learning) (0.9.0)\n",
      "Requirement already satisfied: urllib3 in c:\\users\\mahes\\anaconda3\\lib\\site-packages (from ibm_watson_machine_learning) (1.26.7)\n",
      "Requirement already satisfied: pandas<1.5.0,>=0.24.2 in c:\\users\\mahes\\anaconda3\\lib\\site-packages (from ibm_watson_machine_learning) (1.3.4)\n",
      "Requirement already satisfied: importlib-metadata in c:\\users\\mahes\\anaconda3\\lib\\site-packages (from ibm_watson_machine_learning) (4.8.1)\n",
      "Requirement already satisfied: packaging in c:\\users\\mahes\\anaconda3\\lib\\site-packages (from ibm_watson_machine_learning) (21.0)\n",
      "Requirement already satisfied: requests in c:\\users\\mahes\\anaconda3\\lib\\site-packages (from ibm_watson_machine_learning) (2.26.0)\n",
      "Requirement already satisfied: lomond in c:\\users\\mahes\\anaconda3\\lib\\site-packages (from ibm_watson_machine_learning) (0.3.3)\n",
      "Requirement already satisfied: ibm-cos-sdk-core==2.11.0 in c:\\users\\mahes\\anaconda3\\lib\\site-packages (from ibm-cos-sdk==2.11.*->ibm_watson_machine_learning) (2.11.0)\n",
      "Requirement already satisfied: ibm-cos-sdk-s3transfer==2.11.0 in c:\\users\\mahes\\anaconda3\\lib\\site-packages (from ibm-cos-sdk==2.11.*->ibm_watson_machine_learning) (2.11.0)\n",
      "Requirement already satisfied: jmespath<1.0.0,>=0.7.1 in c:\\users\\mahes\\anaconda3\\lib\\site-packages (from ibm-cos-sdk==2.11.*->ibm_watson_machine_learning) (0.10.0)\n",
      "Requirement already satisfied: python-dateutil<3.0.0,>=2.1 in c:\\users\\mahes\\anaconda3\\lib\\site-packages (from ibm-cos-sdk-core==2.11.0->ibm-cos-sdk==2.11.*->ibm_watson_machine_learning) (2.8.2)\n",
      "Requirement already satisfied: pytz>=2017.3 in c:\\users\\mahes\\anaconda3\\lib\\site-packages (from pandas<1.5.0,>=0.24.2->ibm_watson_machine_learning) (2021.3)\n",
      "Requirement already satisfied: numpy>=1.17.3 in c:\\users\\mahes\\anaconda3\\lib\\site-packages (from pandas<1.5.0,>=0.24.2->ibm_watson_machine_learning) (1.20.3)\n",
      "Requirement already satisfied: charset-normalizer~=2.0.0 in c:\\users\\mahes\\anaconda3\\lib\\site-packages (from requests->ibm_watson_machine_learning) (2.0.4)\n",
      "Requirement already satisfied: idna<4,>=2.5 in c:\\users\\mahes\\anaconda3\\lib\\site-packages (from requests->ibm_watson_machine_learning) (3.2)\n",
      "Requirement already satisfied: zipp>=0.5 in c:\\users\\mahes\\anaconda3\\lib\\site-packages (from importlib-metadata->ibm_watson_machine_learning) (3.6.0)\n",
      "Requirement already satisfied: six>=1.10.0 in c:\\users\\mahes\\anaconda3\\lib\\site-packages (from lomond->ibm_watson_machine_learning) (1.16.0)\n",
      "Requirement already satisfied: pyparsing>=2.0.2 in c:\\users\\mahes\\anaconda3\\lib\\site-packages (from packaging->ibm_watson_machine_learning) (3.0.4)\n"
     ]
    },
    {
     "name": "stderr",
     "output_type": "stream",
     "text": [
      "\n",
      "[notice] A new release of pip available: 22.2.2 -> 22.3\n",
      "[notice] To update, run: python.exe -m pip install --upgrade pip\n"
     ]
    }
   ],
   "source": [
    "pip install ibm_watson_machine_learning"
   ]
  },
  {
   "cell_type": "code",
   "execution_count": 2,
   "id": "c47d1bdb",
   "metadata": {},
   "outputs": [],
   "source": [
    "from ibm_watson_machine_learning import APIClient\n",
    "wml_credentials = {\n",
    "    \"url\" : \"https://us-south.ml.cloud.ibm.com\",\n",
    "    \"apikey\" : \"nE_NMPr3xyuxZ1YZ2vwq3yieoYE2LJe6RDMFXd8N6ZcC\"\n",
    "}\n",
    "client = APIClient(wml_credentials)"
   ]
  },
  {
   "cell_type": "code",
   "execution_count": 3,
   "id": "b1bdd22b",
   "metadata": {},
   "outputs": [],
   "source": [
    "def guid_space_name(client, human_nail_image_processing_space):\n",
    "    space = client.spaces.get_details()\n",
    "    return(next(item for item in space['resources'] if item['entity']['name'] == human_nail_image_processing_space)['metadata']['id'])"
   ]
  },
  {
   "cell_type": "code",
   "execution_count": 4,
   "id": "640ad704",
   "metadata": {},
   "outputs": [
    {
     "data": {
      "text/plain": [
       "{'resources': [{'entity': {'compute': [{'crn': 'crn:v1:bluemix:public:pm-20:us-south:a/e4de7d7e6954440d81939b4328ea39e5:d0d10823-52a3-4952-a6f5-cd557788caae::',\n",
       "      'guid': 'd0d10823-52a3-4952-a6f5-cd557788caae',\n",
       "      'name': 'Watson Machine Learning-ym',\n",
       "      'type': 'machine_learning'}],\n",
       "    'description': '',\n",
       "    'name': 'human_nail_image_processing_space',\n",
       "    'scope': {'bss_account_id': 'e4de7d7e6954440d81939b4328ea39e5'},\n",
       "    'stage': {'production': False},\n",
       "    'status': {'state': 'active'},\n",
       "    'storage': {'properties': {'bucket_name': '89040bb3-5671-478e-8476-9ea73521698b',\n",
       "      'bucket_region': 'us-south',\n",
       "      'credentials': {'admin': {'access_key_id': '8384899c3afe4f048b4aed61441b884a',\n",
       "        'api_key': 'bMUZGBujGhiMHdokq4o_H3aYEdKZjL8j-eQ55p_TRQnm',\n",
       "        'secret_access_key': 'e7e908f9b305a2d0c71289b658517535ee680dde269bfc4d',\n",
       "        'service_id': 'ServiceId-4aa338f3-1db6-46f6-b426-c593f1450dce'},\n",
       "       'editor': {'access_key_id': '67e29c02155a4f5b840bb9ce890763fc',\n",
       "        'api_key': 'Kto1yYvw0lHELM0aGuh7tWXhW7hLsSA6uwNSmfKWRfpN',\n",
       "        'resource_key_crn': 'crn:v1:bluemix:public:cloud-object-storage:global:a/e4de7d7e6954440d81939b4328ea39e5:8fe88b3c-e940-4161-8562-48bdb2a4c96f::',\n",
       "        'secret_access_key': 'd2e815bc088cd6cc5b292b82195a5417aeab05a1b264e3f7',\n",
       "        'service_id': 'ServiceId-f66182e3-c207-4126-95be-e5379f318eaa'},\n",
       "       'viewer': {'access_key_id': 'd65c16b02ac84637b2e5e3769aeb4af9',\n",
       "        'api_key': 'sjVkv3T00vcUdB2CWsTZRNgW5jux2BhBOpd22XtJ7tOv',\n",
       "        'resource_key_crn': 'crn:v1:bluemix:public:cloud-object-storage:global:a/e4de7d7e6954440d81939b4328ea39e5:8fe88b3c-e940-4161-8562-48bdb2a4c96f::',\n",
       "        'secret_access_key': '8cb447b1d0900e09fba60b0cb36f08951c96dc1e5987d991',\n",
       "        'service_id': 'ServiceId-6e3fbb87-0622-4b05-a12a-76346044c47d'}},\n",
       "      'endpoint_url': 'https://s3.us-south.cloud-object-storage.appdomain.cloud',\n",
       "      'guid': '8fe88b3c-e940-4161-8562-48bdb2a4c96f',\n",
       "      'resource_crn': 'crn:v1:bluemix:public:cloud-object-storage:global:a/e4de7d7e6954440d81939b4328ea39e5:8fe88b3c-e940-4161-8562-48bdb2a4c96f::'},\n",
       "     'type': 'bmcos_object_storage'}},\n",
       "   'metadata': {'created_at': '2022-11-04T07:49:48.743Z',\n",
       "    'creator_id': 'IBMid-6640043VMY',\n",
       "    'id': '37602227-6637-477d-94e0-cd544b902c4b',\n",
       "    'updated_at': '2022-11-04T07:50:04.693Z',\n",
       "    'url': '/v2/spaces/37602227-6637-477d-94e0-cd544b902c4b'}}]}"
      ]
     },
     "execution_count": 4,
     "metadata": {},
     "output_type": "execute_result"
    }
   ],
   "source": [
    "client.spaces.get_details()"
   ]
  },
  {
   "cell_type": "code",
   "execution_count": 5,
   "id": "0f40509b",
   "metadata": {},
   "outputs": [
    {
     "data": {
      "text/plain": [
       "'37602227-6637-477d-94e0-cd544b902c4b'"
      ]
     },
     "execution_count": 5,
     "metadata": {},
     "output_type": "execute_result"
    }
   ],
   "source": [
    "space_id = guid_space_name(client, 'human_nail_image_processing_space')\n",
    "space_id"
   ]
  },
  {
   "cell_type": "code",
   "execution_count": 6,
   "id": "2825f5d0",
   "metadata": {},
   "outputs": [
    {
     "data": {
      "text/plain": [
       "'SUCCESS'"
      ]
     },
     "execution_count": 6,
     "metadata": {},
     "output_type": "execute_result"
    }
   ],
   "source": [
    "client.set.default_space(space_id)"
   ]
  },
  {
   "cell_type": "code",
   "execution_count": null,
   "id": "49c86abc",
   "metadata": {},
   "outputs": [],
   "source": [
    "client.repository.download('0de26764-fdce-4316-bebe-1023de1567ca', 'Vgg-16-nail-disease.h5')"
   ]
  },
  {
   "cell_type": "code",
   "execution_count": null,
   "id": "872a2b4f",
   "metadata": {},
   "outputs": [],
   "source": []
  }
 ],
 "metadata": {
  "kernelspec": {
   "display_name": "Python 3 (ipykernel)",
   "language": "python",
   "name": "python3"
  },
  "language_info": {
   "codemirror_mode": {
    "name": "ipython",
    "version": 3
   },
   "file_extension": ".py",
   "mimetype": "text/x-python",
   "name": "python",
   "nbconvert_exporter": "python",
   "pygments_lexer": "ipython3",
   "version": "3.9.7"
  }
 },
 "nbformat": 4,
 "nbformat_minor": 5
}
